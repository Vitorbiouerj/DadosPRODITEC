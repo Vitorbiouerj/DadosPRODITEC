version https://git-lfs.github.com/spec/v1
oid sha256:c12402a93d2f54346d26a1e811b1cca58ddbf8749407ddb6044ea94083205757
size 36280
