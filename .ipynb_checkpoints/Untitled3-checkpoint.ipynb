version https://git-lfs.github.com/spec/v1
oid sha256:a258b3e43884cf810d6ff972554b405945d0152353647b2fa7cc6f8978b952a9
size 7949
