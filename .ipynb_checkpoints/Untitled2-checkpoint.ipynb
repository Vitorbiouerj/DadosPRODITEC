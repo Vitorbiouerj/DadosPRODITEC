version https://git-lfs.github.com/spec/v1
oid sha256:d2a4910ca7c423767edbe60f28b772e17dedb5b12236a97172d0b372d2f15659
size 140642
