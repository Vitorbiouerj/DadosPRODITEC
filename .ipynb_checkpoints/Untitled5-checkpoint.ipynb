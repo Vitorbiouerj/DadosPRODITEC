version https://git-lfs.github.com/spec/v1
oid sha256:317b258200dbd79a9ca3c9f005d0197d59cdbc7ce155a50a3517382df314e409
size 24988
