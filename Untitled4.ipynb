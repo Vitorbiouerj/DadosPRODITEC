version https://git-lfs.github.com/spec/v1
oid sha256:3faa97b5570c8dd675f6bda1a6209bdbb5c150bb2e55841f37f7d8eb08caf906
size 26635
