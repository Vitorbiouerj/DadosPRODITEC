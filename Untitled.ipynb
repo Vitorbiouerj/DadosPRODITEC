{
 "cells": [
  {
   "cell_type": "markdown",
   "id": "bbcdd5b6-b17a-4612-bc20-6365a00f113a",
   "metadata": {},
   "source": [
    "# Preparação dos dados"
   ]
  },
  {
   "cell_type": "code",
   "execution_count": 1,
   "id": "57b41919-2d63-4216-8623-8804d531aa15",
   "metadata": {},
   "outputs": [],
   "source": [
    "import streamlit as st\n",
    "import requests\n",
    "import pandas as pd\n",
    "import plotly.express as px\n",
    "from io import StringIO\n",
    "import os"
   ]
  },
  {
   "cell_type": "code",
   "execution_count": null,
   "id": "8b201d23-086e-424d-b751-db770143ebff",
   "metadata": {},
   "outputs": [],
   "source": [
    "df_trat_2024 = data2024[['SIGLA UF', 'NOME MUNICÍPIO', 'DEPENDÊNCIA ADMINISTRATIVA',\n",
    "                   'CARGO OU FUNÇÃO DO CURSISTA', 'FORMAÇÃO', 'SITUAÇÃO ATUAL']]"
   ]
  },
  {
   "cell_type": "code",
   "execution_count": null,
   "id": "68d99d0e-8fa5-45f4-95af-259d7779d0ea",
   "metadata": {},
   "outputs": [],
   "source": [
    "df_trat_2024.head()"
   ]
  },
  {
   "cell_type": "code",
   "execution_count": null,
   "id": "a34a9698-0363-4ee0-8759-6512a573c954",
   "metadata": {},
   "outputs": [],
   "source": [
    "df_trat_2024.describe(include='all')"
   ]
  },
  {
   "cell_type": "code",
   "execution_count": null,
   "id": "2c77dfd6-5d7f-4224-b2f1-a3e720ce7699",
   "metadata": {},
   "outputs": [],
   "source": [
    "df_trat_2024.info()"
   ]
  },
  {
   "cell_type": "code",
   "execution_count": null,
   "id": "5e2ecb0e-3909-419b-baab-de4a13ab12d0",
   "metadata": {},
   "outputs": [],
   "source": [
    "df_trat_2024.to_csv(\"df_trat_2024.csv\", index=False)"
   ]
  },
  {
   "cell_type": "code",
   "execution_count": null,
   "id": "da7f2ba5-0caf-4ad9-bda6-1c709e7c8cdb",
   "metadata": {},
   "outputs": [],
   "source": [
    "data2025.head()"
   ]
  },
  {
   "cell_type": "code",
   "execution_count": null,
   "id": "24fdc968-614f-4401-9c03-9cb3fdce05bf",
   "metadata": {},
   "outputs": [],
   "source": [
    "df_trat_2025 = data2025[['UF', 'Nome UF Municipio', 'Dependencia Administrativa',\n",
    "                   'Cargo Funcao Cursista', 'Formacao Cursista', 'STATUS']]"
   ]
  },
  {
   "cell_type": "code",
   "execution_count": null,
   "id": "5a9a1066-0be4-4b9e-9702-367943ce91d8",
   "metadata": {},
   "outputs": [],
   "source": [
    "df_trat_2025.head()"
   ]
  },
  {
   "cell_type": "code",
   "execution_count": null,
   "id": "1b6e774a-0baa-486e-819b-85c10b8a7029",
   "metadata": {},
   "outputs": [],
   "source": [
    "df_trat_2025.describe(include='all')"
   ]
  },
  {
   "cell_type": "code",
   "execution_count": null,
   "id": "7f23ae0d-ab36-4237-9bf7-316d83d701e0",
   "metadata": {},
   "outputs": [],
   "source": [
    "df_trat_2025.info()"
   ]
  },
  {
   "cell_type": "code",
   "execution_count": null,
   "id": "2cb49d52-4356-4fc7-8a95-c1db0b984ad9",
   "metadata": {},
   "outputs": [],
   "source": [
    "df_trat_2025.to_csv(\"df_trat_2025.csv\", index=False)"
   ]
  },
  {
   "cell_type": "code",
   "execution_count": null,
   "id": "bd0910bf-ad67-4454-b7b9-3c767ec5240d",
   "metadata": {},
   "outputs": [],
   "source": [
    "dados_2024 = pd.read_csv('df_trat_2024.csv')\n",
    "dados_2025 = pd.read_csv('df_trat_2025.csv')"
   ]
  },
  {
   "cell_type": "code",
   "execution_count": null,
   "id": "750a9400-f637-4429-9f97-c9b4798e1f73",
   "metadata": {},
   "outputs": [],
   "source": [
    "dados_2024.head()"
   ]
  },
  {
   "cell_type": "code",
   "execution_count": null,
   "id": "81562ae3-9d4b-475d-815a-84b7cf5cf076",
   "metadata": {},
   "outputs": [],
   "source": [
    "dados_2025.head()"
   ]
  },
  {
   "cell_type": "code",
   "execution_count": null,
   "id": "6e5c3dc6-23e7-4982-a2bb-801b5c77cb1b",
   "metadata": {},
   "outputs": [],
   "source": [
    "dados_2024[\"DEPENDÊNCIA ADMINISTRATIVA\"].unique()"
   ]
  },
  {
   "cell_type": "code",
   "execution_count": null,
   "id": "992d50a3-2631-44f5-a065-89ef1c692d8b",
   "metadata": {},
   "outputs": [],
   "source": [
    "dados_2024[\"CARGO OU FUNÇÃO DO CURSISTA\"].unique()"
   ]
  },
  {
   "cell_type": "code",
   "execution_count": null,
   "id": "d8d4e3ba-3f95-4860-9228-91e476cb393d",
   "metadata": {},
   "outputs": [],
   "source": [
    "dados_2024[\"FORMAÇÃO\"].unique()"
   ]
  },
  {
   "cell_type": "code",
   "execution_count": null,
   "id": "7e2ba888-5593-4384-968c-d6fd0b5b8b25",
   "metadata": {},
   "outputs": [],
   "source": [
    "dados_2024[\"SITUAÇÃO ATUAL\"].unique()"
   ]
  },
  {
   "cell_type": "code",
   "execution_count": null,
   "id": "8a207c7f-f285-4f44-a3e2-64d0c461985b",
   "metadata": {},
   "outputs": [],
   "source": [
    "dados_2024[\"CARGO OU FUNÇÃO DO CURSISTA\"] = dados_2024[\"CARGO OU FUNÇÃO DO CURSISTA\"].replace({\n",
    "    \"DIRETOR(A) DE ESCOLA\": \"DIRETOR(A)\",\n",
    "    \"REPRESENTANTE OU TÉCNICO DA SECRETARIA DE EDUCAÇÃO\": \"Técnico da Secretaria de Educação\"\n",
    "})"
   ]
  },
  {
   "cell_type": "code",
   "execution_count": null,
   "id": "6c5266b0-071f-481b-86e4-28728420cfc8",
   "metadata": {},
   "outputs": [],
   "source": [
    "dados_2024[\"CARGO OU FUNÇÃO DO CURSISTA\"] = dados_2024[\"CARGO OU FUNÇÃO DO CURSISTA\"].str.replace(\n",
    "    r'^REPRESENTANTE OU TÉCNICO DA SECRETARIA DE EDUCAÇÃO.*$', \n",
    "    'Técnico da Secretaria de Educação', \n",
    "    regex=True\n",
    ")"
   ]
  },
  {
   "cell_type": "code",
   "execution_count": null,
   "id": "be9ba8c2-65c8-49e6-a569-519fd705e556",
   "metadata": {},
   "outputs": [],
   "source": [
    "dados_2024 = dados_2024.apply(lambda col: col.str.upper() if col.dtype == 'object' else col)"
   ]
  },
  {
   "cell_type": "code",
   "execution_count": null,
   "id": "302a94f9-ee03-4766-a6de-352874d92f69",
   "metadata": {},
   "outputs": [],
   "source": [
    "dados_2024.head()"
   ]
  },
  {
   "cell_type": "code",
   "execution_count": null,
   "id": "84e06a3c-b277-447d-a18d-005d74a7a1c0",
   "metadata": {},
   "outputs": [],
   "source": [
    "dados_2024.to_csv(\"dados_2024.csv\", index=False)"
   ]
  },
  {
   "cell_type": "markdown",
   "id": "c8f1c9b5-46e1-4ad5-b9ff-f18ea2861727",
   "metadata": {},
   "source": [
    "### Dados 2025"
   ]
  },
  {
   "cell_type": "code",
   "execution_count": null,
   "id": "18d8432f-a635-45c5-9404-ea5b4f9da4b3",
   "metadata": {},
   "outputs": [],
   "source": [
    "dados_2025.head()"
   ]
  },
  {
   "cell_type": "code",
   "execution_count": null,
   "id": "f819688d-dc99-49d3-bab1-ac2f51064e7c",
   "metadata": {},
   "outputs": [],
   "source": [
    "dados_2025 = dados_2025.rename(columns={\n",
    "    \"UF\": \"SIGLA UF\",\n",
    "    \"Nome UF Municipio\": \"NOME MUNICÍPIO\",\n",
    "    \"Dependencia Administrativa\": \"DEPENDÊNCIA ADMINISTRATIVA\",\n",
    "    \"Cargo Funcao Cursista\": \"CARGO OU FUNÇÃO DO CURSISTA\",\n",
    "    \"Formacao Cursista\": \"FORMAÇÃO\",\n",
    "    \"STATUS\": \"SITUAÇÃO ATUAL\"\n",
    "})\n",
    "dados_2025.head()"
   ]
  },
  {
   "cell_type": "code",
   "execution_count": null,
   "id": "5bab7d13-91e3-433c-ab98-3054261d767e",
   "metadata": {},
   "outputs": [],
   "source": [
    "dados_2024.head()"
   ]
  },
  {
   "cell_type": "code",
   "execution_count": null,
   "id": "f89f8b62-2889-4092-94bf-8cc81c85a119",
   "metadata": {},
   "outputs": [],
   "source": [
    "dados_2025[\"CARGO OU FUNÇÃO DO CURSISTA\"].unique()"
   ]
  },
  {
   "cell_type": "code",
   "execution_count": null,
   "id": "9a8ca631-8bad-44ae-89ca-ab92d511f189",
   "metadata": {},
   "outputs": [],
   "source": [
    "dados_2024[\"CARGO OU FUNÇÃO DO CURSISTA\"].unique()"
   ]
  },
  {
   "cell_type": "code",
   "execution_count": null,
   "id": "fc76dfbf-ef03-4e33-8cbc-bf4dc220749b",
   "metadata": {},
   "outputs": [],
   "source": [
    "# Substituir os valores na coluna \"CARGO OU FUNÇÃO DO CURSISTA\"\n",
    "dados_2025[\"CARGO OU FUNÇÃO DO CURSISTA\"] = dados_2025[\"CARGO OU FUNÇÃO DO CURSISTA\"].replace({\n",
    "    \"Diretor Escolar\": \"DIRETOR(A)\",\n",
    "    \"Técnico da Secretaria de Educação\": \"TÉCNICO DA SECRETARIA DE EDUCAÇÃO\"\n",
    "})\n",
    "\n",
    "# Converter todas as colunas do DataFrame para maiúsculo (apenas as colunas do tipo string)\n",
    "dados_2025 = dados_2025.apply(lambda col: col.str.upper() if col.dtype == 'object' else col)\n",
    "dados_2025.head()"
   ]
  },
  {
   "cell_type": "code",
   "execution_count": null,
   "id": "8296ae28-c0ea-4f16-8db8-22dd4a4ebd37",
   "metadata": {},
   "outputs": [],
   "source": [
    "dados_2025.to_csv(\"dados_2025.csv\", index=False)"
   ]
  },
  {
   "cell_type": "code",
   "execution_count": 4,
   "id": "1e98da86-2866-452a-87e3-57cae55349ac",
   "metadata": {},
   "outputs": [
    {
     "name": "stdout",
     "output_type": "stream",
     "text": [
      "Codificação detectada: ISO-8859-1\n"
     ]
    },
    {
     "ename": "ParserError",
     "evalue": "Error tokenizing data. C error: Expected 1 fields in line 48, saw 2\n",
     "output_type": "error",
     "traceback": [
      "\u001b[0;31m---------------------------------------------------------------------------\u001b[0m",
      "\u001b[0;31mParserError\u001b[0m                               Traceback (most recent call last)",
      "\u001b[0;32m/tmp/ipykernel_263152/687226186.py\u001b[0m in \u001b[0;36m<cell line: 0>\u001b[0;34m()\u001b[0m\n\u001b[1;32m      9\u001b[0m \u001b[0;34m\u001b[0m\u001b[0m\n\u001b[1;32m     10\u001b[0m \u001b[0;31m# Agora, lê o arquivo com a codificação detectada\u001b[0m\u001b[0;34m\u001b[0m\u001b[0;34m\u001b[0m\u001b[0m\n\u001b[0;32m---> 11\u001b[0;31m \u001b[0mcenso2023\u001b[0m \u001b[0;34m=\u001b[0m \u001b[0mpd\u001b[0m\u001b[0;34m.\u001b[0m\u001b[0mread_csv\u001b[0m\u001b[0;34m(\u001b[0m\u001b[0;34m'microdados_ed_basica_2023.csv'\u001b[0m\u001b[0;34m,\u001b[0m \u001b[0mencoding\u001b[0m\u001b[0;34m=\u001b[0m\u001b[0mencoding_detected\u001b[0m\u001b[0;34m)\u001b[0m\u001b[0;34m\u001b[0m\u001b[0;34m\u001b[0m\u001b[0m\n\u001b[0m",
      "\u001b[0;32m/IA/jupyter_notebook/.venv/lib/python3.12/site-packages/pandas/io/parsers/readers.py\u001b[0m in \u001b[0;36mread_csv\u001b[0;34m(filepath_or_buffer, sep, delimiter, header, names, index_col, usecols, dtype, engine, converters, true_values, false_values, skipinitialspace, skiprows, skipfooter, nrows, na_values, keep_default_na, na_filter, verbose, skip_blank_lines, parse_dates, infer_datetime_format, keep_date_col, date_parser, date_format, dayfirst, cache_dates, iterator, chunksize, compression, thousands, decimal, lineterminator, quotechar, quoting, doublequote, escapechar, comment, encoding, encoding_errors, dialect, on_bad_lines, delim_whitespace, low_memory, memory_map, float_precision, storage_options, dtype_backend)\u001b[0m\n\u001b[1;32m   1024\u001b[0m     \u001b[0mkwds\u001b[0m\u001b[0;34m.\u001b[0m\u001b[0mupdate\u001b[0m\u001b[0;34m(\u001b[0m\u001b[0mkwds_defaults\u001b[0m\u001b[0;34m)\u001b[0m\u001b[0;34m\u001b[0m\u001b[0;34m\u001b[0m\u001b[0m\n\u001b[1;32m   1025\u001b[0m \u001b[0;34m\u001b[0m\u001b[0m\n\u001b[0;32m-> 1026\u001b[0;31m     \u001b[0;32mreturn\u001b[0m \u001b[0m_read\u001b[0m\u001b[0;34m(\u001b[0m\u001b[0mfilepath_or_buffer\u001b[0m\u001b[0;34m,\u001b[0m \u001b[0mkwds\u001b[0m\u001b[0;34m)\u001b[0m\u001b[0;34m\u001b[0m\u001b[0;34m\u001b[0m\u001b[0m\n\u001b[0m\u001b[1;32m   1027\u001b[0m \u001b[0;34m\u001b[0m\u001b[0m\n\u001b[1;32m   1028\u001b[0m \u001b[0;34m\u001b[0m\u001b[0m\n",
      "\u001b[0;32m/IA/jupyter_notebook/.venv/lib/python3.12/site-packages/pandas/io/parsers/readers.py\u001b[0m in \u001b[0;36m_read\u001b[0;34m(filepath_or_buffer, kwds)\u001b[0m\n\u001b[1;32m    624\u001b[0m \u001b[0;34m\u001b[0m\u001b[0m\n\u001b[1;32m    625\u001b[0m     \u001b[0;32mwith\u001b[0m \u001b[0mparser\u001b[0m\u001b[0;34m:\u001b[0m\u001b[0;34m\u001b[0m\u001b[0;34m\u001b[0m\u001b[0m\n\u001b[0;32m--> 626\u001b[0;31m         \u001b[0;32mreturn\u001b[0m \u001b[0mparser\u001b[0m\u001b[0;34m.\u001b[0m\u001b[0mread\u001b[0m\u001b[0;34m(\u001b[0m\u001b[0mnrows\u001b[0m\u001b[0;34m)\u001b[0m\u001b[0;34m\u001b[0m\u001b[0;34m\u001b[0m\u001b[0m\n\u001b[0m\u001b[1;32m    627\u001b[0m \u001b[0;34m\u001b[0m\u001b[0m\n\u001b[1;32m    628\u001b[0m \u001b[0;34m\u001b[0m\u001b[0m\n",
      "\u001b[0;32m/IA/jupyter_notebook/.venv/lib/python3.12/site-packages/pandas/io/parsers/readers.py\u001b[0m in \u001b[0;36mread\u001b[0;34m(self, nrows)\u001b[0m\n\u001b[1;32m   1921\u001b[0m                     \u001b[0mcolumns\u001b[0m\u001b[0;34m,\u001b[0m\u001b[0;34m\u001b[0m\u001b[0;34m\u001b[0m\u001b[0m\n\u001b[1;32m   1922\u001b[0m                     \u001b[0mcol_dict\u001b[0m\u001b[0;34m,\u001b[0m\u001b[0;34m\u001b[0m\u001b[0;34m\u001b[0m\u001b[0m\n\u001b[0;32m-> 1923\u001b[0;31m                 ) = self._engine.read(  # type: ignore[attr-defined]\n\u001b[0m\u001b[1;32m   1924\u001b[0m                     \u001b[0mnrows\u001b[0m\u001b[0;34m\u001b[0m\u001b[0;34m\u001b[0m\u001b[0m\n\u001b[1;32m   1925\u001b[0m                 \u001b[0;34m)\u001b[0m\u001b[0;34m\u001b[0m\u001b[0;34m\u001b[0m\u001b[0m\n",
      "\u001b[0;32m/IA/jupyter_notebook/.venv/lib/python3.12/site-packages/pandas/io/parsers/c_parser_wrapper.py\u001b[0m in \u001b[0;36mread\u001b[0;34m(self, nrows)\u001b[0m\n\u001b[1;32m    232\u001b[0m         \u001b[0;32mtry\u001b[0m\u001b[0;34m:\u001b[0m\u001b[0;34m\u001b[0m\u001b[0;34m\u001b[0m\u001b[0m\n\u001b[1;32m    233\u001b[0m             \u001b[0;32mif\u001b[0m \u001b[0mself\u001b[0m\u001b[0;34m.\u001b[0m\u001b[0mlow_memory\u001b[0m\u001b[0;34m:\u001b[0m\u001b[0;34m\u001b[0m\u001b[0;34m\u001b[0m\u001b[0m\n\u001b[0;32m--> 234\u001b[0;31m                 \u001b[0mchunks\u001b[0m \u001b[0;34m=\u001b[0m \u001b[0mself\u001b[0m\u001b[0;34m.\u001b[0m\u001b[0m_reader\u001b[0m\u001b[0;34m.\u001b[0m\u001b[0mread_low_memory\u001b[0m\u001b[0;34m(\u001b[0m\u001b[0mnrows\u001b[0m\u001b[0;34m)\u001b[0m\u001b[0;34m\u001b[0m\u001b[0;34m\u001b[0m\u001b[0m\n\u001b[0m\u001b[1;32m    235\u001b[0m                 \u001b[0;31m# destructive to chunks\u001b[0m\u001b[0;34m\u001b[0m\u001b[0;34m\u001b[0m\u001b[0m\n\u001b[1;32m    236\u001b[0m                 \u001b[0mdata\u001b[0m \u001b[0;34m=\u001b[0m \u001b[0m_concatenate_chunks\u001b[0m\u001b[0;34m(\u001b[0m\u001b[0mchunks\u001b[0m\u001b[0;34m)\u001b[0m\u001b[0;34m\u001b[0m\u001b[0;34m\u001b[0m\u001b[0m\n",
      "\u001b[0;32mparsers.pyx\u001b[0m in \u001b[0;36mpandas._libs.parsers.TextReader.read_low_memory\u001b[0;34m()\u001b[0m\n",
      "\u001b[0;32mparsers.pyx\u001b[0m in \u001b[0;36mpandas._libs.parsers.TextReader._read_rows\u001b[0;34m()\u001b[0m\n",
      "\u001b[0;32mparsers.pyx\u001b[0m in \u001b[0;36mpandas._libs.parsers.TextReader._tokenize_rows\u001b[0;34m()\u001b[0m\n",
      "\u001b[0;32mparsers.pyx\u001b[0m in \u001b[0;36mpandas._libs.parsers.TextReader._check_tokenize_status\u001b[0;34m()\u001b[0m\n",
      "\u001b[0;32mparsers.pyx\u001b[0m in \u001b[0;36mpandas._libs.parsers.raise_parser_error\u001b[0;34m()\u001b[0m\n",
      "\u001b[0;31mParserError\u001b[0m: Error tokenizing data. C error: Expected 1 fields in line 48, saw 2\n"
     ]
    }
   ],
   "source": [
    "import chardet\n",
    "\n",
    "# Lê um pedaço do arquivo para detectar a codificação\n",
    "with open('microdados_ed_basica_2023.csv', 'rb') as f:\n",
    "    result = chardet.detect(f.read(100000))  # Lê os primeiros 100 KB\n",
    "    encoding_detected = result['encoding']\n",
    "\n",
    "print(f'Codificação detectada: {encoding_detected}')\n",
    "\n",
    "# Agora, lê o arquivo com a codificação detectada\n",
    "censo2023 = pd.read_csv('microdados_ed_basica_2023.csv', encoding=encoding_detected)"
   ]
  },
  {
   "cell_type": "code",
   "execution_count": 7,
   "id": "5b63d8b3-137d-4d30-bbe6-9c8d57f9e4b3",
   "metadata": {},
   "outputs": [
    {
     "ename": "UnicodeDecodeError",
     "evalue": "'utf-8' codec can't decode byte 0xf4 in position 7755: invalid continuation byte",
     "output_type": "error",
     "traceback": [
      "\u001b[0;31m---------------------------------------------------------------------------\u001b[0m",
      "\u001b[0;31mUnicodeDecodeError\u001b[0m                        Traceback (most recent call last)",
      "\u001b[0;32m/tmp/ipykernel_263152/1513156417.py\u001b[0m in \u001b[0;36m<cell line: 0>\u001b[0;34m()\u001b[0m\n\u001b[0;32m----> 1\u001b[0;31m \u001b[0mcenso2023\u001b[0m \u001b[0;34m=\u001b[0m \u001b[0mpd\u001b[0m\u001b[0;34m.\u001b[0m\u001b[0mread_csv\u001b[0m\u001b[0;34m(\u001b[0m\u001b[0;34m'microdados_ed_basica_2023.csv'\u001b[0m\u001b[0;34m,\u001b[0m \u001b[0mencoding\u001b[0m\u001b[0;34m=\u001b[0m\u001b[0;34m'utf-8-sig'\u001b[0m\u001b[0;34m)\u001b[0m\u001b[0;34m\u001b[0m\u001b[0;34m\u001b[0m\u001b[0m\n\u001b[0m",
      "\u001b[0;32m/IA/jupyter_notebook/.venv/lib/python3.12/site-packages/pandas/io/parsers/readers.py\u001b[0m in \u001b[0;36mread_csv\u001b[0;34m(filepath_or_buffer, sep, delimiter, header, names, index_col, usecols, dtype, engine, converters, true_values, false_values, skipinitialspace, skiprows, skipfooter, nrows, na_values, keep_default_na, na_filter, verbose, skip_blank_lines, parse_dates, infer_datetime_format, keep_date_col, date_parser, date_format, dayfirst, cache_dates, iterator, chunksize, compression, thousands, decimal, lineterminator, quotechar, quoting, doublequote, escapechar, comment, encoding, encoding_errors, dialect, on_bad_lines, delim_whitespace, low_memory, memory_map, float_precision, storage_options, dtype_backend)\u001b[0m\n\u001b[1;32m   1024\u001b[0m     \u001b[0mkwds\u001b[0m\u001b[0;34m.\u001b[0m\u001b[0mupdate\u001b[0m\u001b[0;34m(\u001b[0m\u001b[0mkwds_defaults\u001b[0m\u001b[0;34m)\u001b[0m\u001b[0;34m\u001b[0m\u001b[0;34m\u001b[0m\u001b[0m\n\u001b[1;32m   1025\u001b[0m \u001b[0;34m\u001b[0m\u001b[0m\n\u001b[0;32m-> 1026\u001b[0;31m     \u001b[0;32mreturn\u001b[0m \u001b[0m_read\u001b[0m\u001b[0;34m(\u001b[0m\u001b[0mfilepath_or_buffer\u001b[0m\u001b[0;34m,\u001b[0m \u001b[0mkwds\u001b[0m\u001b[0;34m)\u001b[0m\u001b[0;34m\u001b[0m\u001b[0;34m\u001b[0m\u001b[0m\n\u001b[0m\u001b[1;32m   1027\u001b[0m \u001b[0;34m\u001b[0m\u001b[0m\n\u001b[1;32m   1028\u001b[0m \u001b[0;34m\u001b[0m\u001b[0m\n",
      "\u001b[0;32m/IA/jupyter_notebook/.venv/lib/python3.12/site-packages/pandas/io/parsers/readers.py\u001b[0m in \u001b[0;36m_read\u001b[0;34m(filepath_or_buffer, kwds)\u001b[0m\n\u001b[1;32m    618\u001b[0m \u001b[0;34m\u001b[0m\u001b[0m\n\u001b[1;32m    619\u001b[0m     \u001b[0;31m# Create the parser.\u001b[0m\u001b[0;34m\u001b[0m\u001b[0;34m\u001b[0m\u001b[0m\n\u001b[0;32m--> 620\u001b[0;31m     \u001b[0mparser\u001b[0m \u001b[0;34m=\u001b[0m \u001b[0mTextFileReader\u001b[0m\u001b[0;34m(\u001b[0m\u001b[0mfilepath_or_buffer\u001b[0m\u001b[0;34m,\u001b[0m \u001b[0;34m**\u001b[0m\u001b[0mkwds\u001b[0m\u001b[0;34m)\u001b[0m\u001b[0;34m\u001b[0m\u001b[0;34m\u001b[0m\u001b[0m\n\u001b[0m\u001b[1;32m    621\u001b[0m \u001b[0;34m\u001b[0m\u001b[0m\n\u001b[1;32m    622\u001b[0m     \u001b[0;32mif\u001b[0m \u001b[0mchunksize\u001b[0m \u001b[0;32mor\u001b[0m \u001b[0miterator\u001b[0m\u001b[0;34m:\u001b[0m\u001b[0;34m\u001b[0m\u001b[0;34m\u001b[0m\u001b[0m\n",
      "\u001b[0;32m/IA/jupyter_notebook/.venv/lib/python3.12/site-packages/pandas/io/parsers/readers.py\u001b[0m in \u001b[0;36m__init__\u001b[0;34m(self, f, engine, **kwds)\u001b[0m\n\u001b[1;32m   1618\u001b[0m \u001b[0;34m\u001b[0m\u001b[0m\n\u001b[1;32m   1619\u001b[0m         \u001b[0mself\u001b[0m\u001b[0;34m.\u001b[0m\u001b[0mhandles\u001b[0m\u001b[0;34m:\u001b[0m \u001b[0mIOHandles\u001b[0m \u001b[0;34m|\u001b[0m \u001b[0;32mNone\u001b[0m \u001b[0;34m=\u001b[0m \u001b[0;32mNone\u001b[0m\u001b[0;34m\u001b[0m\u001b[0;34m\u001b[0m\u001b[0m\n\u001b[0;32m-> 1620\u001b[0;31m         \u001b[0mself\u001b[0m\u001b[0;34m.\u001b[0m\u001b[0m_engine\u001b[0m \u001b[0;34m=\u001b[0m \u001b[0mself\u001b[0m\u001b[0;34m.\u001b[0m\u001b[0m_make_engine\u001b[0m\u001b[0;34m(\u001b[0m\u001b[0mf\u001b[0m\u001b[0;34m,\u001b[0m \u001b[0mself\u001b[0m\u001b[0;34m.\u001b[0m\u001b[0mengine\u001b[0m\u001b[0;34m)\u001b[0m\u001b[0;34m\u001b[0m\u001b[0;34m\u001b[0m\u001b[0m\n\u001b[0m\u001b[1;32m   1621\u001b[0m \u001b[0;34m\u001b[0m\u001b[0m\n\u001b[1;32m   1622\u001b[0m     \u001b[0;32mdef\u001b[0m \u001b[0mclose\u001b[0m\u001b[0;34m(\u001b[0m\u001b[0mself\u001b[0m\u001b[0;34m)\u001b[0m \u001b[0;34m->\u001b[0m \u001b[0;32mNone\u001b[0m\u001b[0;34m:\u001b[0m\u001b[0;34m\u001b[0m\u001b[0;34m\u001b[0m\u001b[0m\n",
      "\u001b[0;32m/IA/jupyter_notebook/.venv/lib/python3.12/site-packages/pandas/io/parsers/readers.py\u001b[0m in \u001b[0;36m_make_engine\u001b[0;34m(self, f, engine)\u001b[0m\n\u001b[1;32m   1896\u001b[0m \u001b[0;34m\u001b[0m\u001b[0m\n\u001b[1;32m   1897\u001b[0m         \u001b[0;32mtry\u001b[0m\u001b[0;34m:\u001b[0m\u001b[0;34m\u001b[0m\u001b[0;34m\u001b[0m\u001b[0m\n\u001b[0;32m-> 1898\u001b[0;31m             \u001b[0;32mreturn\u001b[0m \u001b[0mmapping\u001b[0m\u001b[0;34m[\u001b[0m\u001b[0mengine\u001b[0m\u001b[0;34m]\u001b[0m\u001b[0;34m(\u001b[0m\u001b[0mf\u001b[0m\u001b[0;34m,\u001b[0m \u001b[0;34m**\u001b[0m\u001b[0mself\u001b[0m\u001b[0;34m.\u001b[0m\u001b[0moptions\u001b[0m\u001b[0;34m)\u001b[0m\u001b[0;34m\u001b[0m\u001b[0;34m\u001b[0m\u001b[0m\n\u001b[0m\u001b[1;32m   1899\u001b[0m         \u001b[0;32mexcept\u001b[0m \u001b[0mException\u001b[0m\u001b[0;34m:\u001b[0m\u001b[0;34m\u001b[0m\u001b[0;34m\u001b[0m\u001b[0m\n\u001b[1;32m   1900\u001b[0m             \u001b[0;32mif\u001b[0m \u001b[0mself\u001b[0m\u001b[0;34m.\u001b[0m\u001b[0mhandles\u001b[0m \u001b[0;32mis\u001b[0m \u001b[0;32mnot\u001b[0m \u001b[0;32mNone\u001b[0m\u001b[0;34m:\u001b[0m\u001b[0;34m\u001b[0m\u001b[0;34m\u001b[0m\u001b[0m\n",
      "\u001b[0;32m/IA/jupyter_notebook/.venv/lib/python3.12/site-packages/pandas/io/parsers/c_parser_wrapper.py\u001b[0m in \u001b[0;36m__init__\u001b[0;34m(self, src, **kwds)\u001b[0m\n\u001b[1;32m     91\u001b[0m             \u001b[0;31m# Fail here loudly instead of in cython after reading\u001b[0m\u001b[0;34m\u001b[0m\u001b[0;34m\u001b[0m\u001b[0m\n\u001b[1;32m     92\u001b[0m             \u001b[0mimport_optional_dependency\u001b[0m\u001b[0;34m(\u001b[0m\u001b[0;34m\"pyarrow\"\u001b[0m\u001b[0;34m)\u001b[0m\u001b[0;34m\u001b[0m\u001b[0;34m\u001b[0m\u001b[0m\n\u001b[0;32m---> 93\u001b[0;31m         \u001b[0mself\u001b[0m\u001b[0;34m.\u001b[0m\u001b[0m_reader\u001b[0m \u001b[0;34m=\u001b[0m \u001b[0mparsers\u001b[0m\u001b[0;34m.\u001b[0m\u001b[0mTextReader\u001b[0m\u001b[0;34m(\u001b[0m\u001b[0msrc\u001b[0m\u001b[0;34m,\u001b[0m \u001b[0;34m**\u001b[0m\u001b[0mkwds\u001b[0m\u001b[0;34m)\u001b[0m\u001b[0;34m\u001b[0m\u001b[0;34m\u001b[0m\u001b[0m\n\u001b[0m\u001b[1;32m     94\u001b[0m \u001b[0;34m\u001b[0m\u001b[0m\n\u001b[1;32m     95\u001b[0m         \u001b[0mself\u001b[0m\u001b[0;34m.\u001b[0m\u001b[0munnamed_cols\u001b[0m \u001b[0;34m=\u001b[0m \u001b[0mself\u001b[0m\u001b[0;34m.\u001b[0m\u001b[0m_reader\u001b[0m\u001b[0;34m.\u001b[0m\u001b[0munnamed_cols\u001b[0m\u001b[0;34m\u001b[0m\u001b[0;34m\u001b[0m\u001b[0m\n",
      "\u001b[0;32mparsers.pyx\u001b[0m in \u001b[0;36mpandas._libs.parsers.TextReader.__cinit__\u001b[0;34m()\u001b[0m\n",
      "\u001b[0;32mparsers.pyx\u001b[0m in \u001b[0;36mpandas._libs.parsers.TextReader._get_header\u001b[0;34m()\u001b[0m\n",
      "\u001b[0;32mparsers.pyx\u001b[0m in \u001b[0;36mpandas._libs.parsers.TextReader._tokenize_rows\u001b[0;34m()\u001b[0m\n",
      "\u001b[0;32mparsers.pyx\u001b[0m in \u001b[0;36mpandas._libs.parsers.TextReader._check_tokenize_status\u001b[0;34m()\u001b[0m\n",
      "\u001b[0;32mparsers.pyx\u001b[0m in \u001b[0;36mpandas._libs.parsers.raise_parser_error\u001b[0;34m()\u001b[0m\n",
      "\u001b[0;32m/usr/lib/python3.12/codecs.py\u001b[0m in \u001b[0;36mdecode\u001b[0;34m(self, input, final)\u001b[0m\n",
      "\u001b[0;32m/usr/lib/python3.12/encodings/utf_8_sig.py\u001b[0m in \u001b[0;36m_buffer_decode\u001b[0;34m(self, input, errors, final)\u001b[0m\n\u001b[1;32m     67\u001b[0m                        \u001b[0mcodecs\u001b[0m\u001b[0;34m.\u001b[0m\u001b[0mutf_8_decode\u001b[0m\u001b[0;34m(\u001b[0m\u001b[0minput\u001b[0m\u001b[0;34m[\u001b[0m\u001b[0;36m3\u001b[0m\u001b[0;34m:\u001b[0m\u001b[0;34m]\u001b[0m\u001b[0;34m,\u001b[0m \u001b[0merrors\u001b[0m\u001b[0;34m,\u001b[0m \u001b[0mfinal\u001b[0m\u001b[0;34m)\u001b[0m\u001b[0;34m\u001b[0m\u001b[0;34m\u001b[0m\u001b[0m\n\u001b[1;32m     68\u001b[0m                     \u001b[0;32mreturn\u001b[0m \u001b[0;34m(\u001b[0m\u001b[0moutput\u001b[0m\u001b[0;34m,\u001b[0m \u001b[0mconsumed\u001b[0m\u001b[0;34m+\u001b[0m\u001b[0;36m3\u001b[0m\u001b[0;34m)\u001b[0m\u001b[0;34m\u001b[0m\u001b[0;34m\u001b[0m\u001b[0m\n\u001b[0;32m---> 69\u001b[0;31m         \u001b[0;32mreturn\u001b[0m \u001b[0mcodecs\u001b[0m\u001b[0;34m.\u001b[0m\u001b[0mutf_8_decode\u001b[0m\u001b[0;34m(\u001b[0m\u001b[0minput\u001b[0m\u001b[0;34m,\u001b[0m \u001b[0merrors\u001b[0m\u001b[0;34m,\u001b[0m \u001b[0mfinal\u001b[0m\u001b[0;34m)\u001b[0m\u001b[0;34m\u001b[0m\u001b[0;34m\u001b[0m\u001b[0m\n\u001b[0m\u001b[1;32m     70\u001b[0m \u001b[0;34m\u001b[0m\u001b[0m\n\u001b[1;32m     71\u001b[0m     \u001b[0;32mdef\u001b[0m \u001b[0mreset\u001b[0m\u001b[0;34m(\u001b[0m\u001b[0mself\u001b[0m\u001b[0;34m)\u001b[0m\u001b[0;34m:\u001b[0m\u001b[0;34m\u001b[0m\u001b[0;34m\u001b[0m\u001b[0m\n",
      "\u001b[0;31mUnicodeDecodeError\u001b[0m: 'utf-8' codec can't decode byte 0xf4 in position 7755: invalid continuation byte"
     ]
    }
   ],
   "source": [
    "censo2023 = pd.read_csv('microdados_ed_basica_2023.csv', encoding='utf-8-sig')"
   ]
  },
  {
   "cell_type": "markdown",
   "id": "3317a24d-1b63-4191-860a-228d25c95620",
   "metadata": {},
   "source": [
    "# Construção da base"
   ]
  },
  {
   "cell_type": "code",
   "execution_count": null,
   "id": "a4fb290a-9021-4485-81d7-63d24bba3764",
   "metadata": {},
   "outputs": [],
   "source": [
    "import streamlit as st\n",
    "import pandas as pd\n",
    "import plotly.express as px\n",
    "import os\n",
    "\n",
    "st.title(\"Análise dos Dados dos Alunos do PRODITEC\")\n",
    "\n",
    "# Função para carregar os dados a partir de um arquivo CSV local\n",
    "@st.cache_data\n",
    "def load_data(file_path):\n",
    "    if os.path.exists(file_path):\n",
    "        df = pd.read_csv(file_path)\n",
    "        return df\n",
    "    else:\n",
    "        st.error(f\"Erro ao carregar dados do arquivo: {file_path}\")\n",
    "        return pd.DataFrame()\n",
    "\n",
    "# Caminhos dos arquivos locais\n",
    "file_2024 = \"dados_2024.csv\"\n",
    "file_2025 = \"dados_2025.csv\"\n",
    "\n",
    "# Carregar os dados dos semestres\n",
    "st.header(\"Dados 2024-2\")\n",
    "df_2024 = load_data(file_2024)\n",
    "if not df_2024.empty:\n",
    "    st.write(\"Visualização dos primeiros registros:\", df_2024.head())\n",
    "\n",
    "st.header(\"Dados 2025-1 (Inscritos)\")\n",
    "df_2025 = load_data(file_2025)\n",
    "if not df_2025.empty:\n",
    "    st.write(\"Visualização dos primeiros registros:\", df_2025.head())\n",
    "\n",
    "# -----------------------------------------\n",
    "st.subheader(\"Distribuição Geográfica por SIGLA UF\")\n",
    "# Para 2024-2\n",
    "if not df_2024.empty and 'SIGLA UF' in df_2024.columns:\n",
    "    contagem_estado_2024 = df_2024['SIGLA UF'].value_counts().reset_index()\n",
    "    contagem_estado_2024.columns = ['SIGLA UF', 'quantidade']\n",
    "    fig_2024 = px.bar(contagem_estado_2024, x='SIGLA UF', y='quantidade',\n",
    "                      title=\"Alunos por Estado (2024-2)\")\n",
    "    st.plotly_chart(fig_2024)\n",
    "else:\n",
    "    st.write(\"Coluna 'SIGLA UF' não encontrada em 2024-2.\")\n",
    "\n",
    "# Para 2025-1\n",
    "if not df_2025.empty and 'SIGLA UF' in df_2025.columns:\n",
    "    contagem_estado_2025 = df_2025['SIGLA UF'].value_counts().reset_index()\n",
    "    contagem_estado_2025.columns = ['SIGLA UF', 'quantidade']\n",
    "    fig_2025 = px.bar(contagem_estado_2025, x='SIGLA UF', y='quantidade',\n",
    "                      title=\"Inscritos por Estado (2025-1)\")\n",
    "    st.plotly_chart(fig_2025)\n",
    "else:\n",
    "    st.write(\"Coluna 'SIGLA UF' não encontrada em 2025-1.\")\n",
    "\n",
    "# -----------------------------------------\n",
    "st.subheader(\"Distribuição Geográfica por Região\")\n",
    "# Supondo que os dados possuam uma coluna 'regiao'\n",
    "if not df_2024.empty and 'regiao' in df_2024.columns:\n",
    "    contagem_regiao_2024 = df_2024['regiao'].value_counts().reset_index()\n",
    "    contagem_regiao_2024.columns = ['regiao', 'quantidade']\n",
    "    fig_regiao_2024 = px.pie(contagem_regiao_2024, names='regiao', values='quantidade',\n",
    "                             title=\"Distribuição por Região (2024-2)\")\n",
    "    st.plotly_chart(fig_regiao_2024)\n",
    "else:\n",
    "    st.write(\"Coluna 'regiao' não encontrada em 2024-2.\")\n",
    "\n",
    "if not df_2025.empty and 'regiao' in df_2025.columns:\n",
    "    contagem_regiao_2025 = df_2025['regiao'].value_counts().reset_index()\n",
    "    contagem_regiao_2025.columns = ['regiao', 'quantidade']\n",
    "    fig_regiao_2025 = px.pie(contagem_regiao_2025, names='regiao', values='quantidade',\n",
    "                             title=\"Distribuição por Região (2025-1)\")\n",
    "    st.plotly_chart(fig_regiao_2025)\n",
    "else:\n",
    "    st.write(\"Coluna 'regiao' não encontrada em 2025-1.\")\n",
    "\n",
    "# -----------------------------------------\n",
    "st.header(\"Taxa de Evasão (2024-2)\")\n",
    "# Supondo que os dados de 2024-2 possuam uma coluna 'status'\n",
    "# onde, por exemplo, \"evasao\" indica a evasão do aluno\n",
    "if not df_2024.empty and 'status' in df_2024.columns:\n",
    "    total_alunos = len(df_2024)\n",
    "    alunos_evasao = df_2024[df_2024['status'] == 'evasao']\n",
    "    taxa_evasao = (len(alunos_evasao) / total_alunos) * 100\n",
    "    st.write(f\"Taxa de evasão (2024-2): {taxa_evasao:.2f}%\")\n",
    "else:\n",
    "    st.write(\"Dados de evasão não disponíveis para 2024-2.\")\n",
    "\n",
    "# -----------------------------------------\n",
    "st.header(\"Comparação de Estatísticas\")\n",
    "if not df_2024.empty and not df_2025.empty:\n",
    "    total_2024 = len(df_2024)\n",
    "    total_2025 = len(df_2025)\n",
    "    st.write(f\"Total de alunos em 2024-2: {total_2024}\")\n",
    "    st.write(f\"Total de inscritos em 2025-1: {total_2025}\")\n",
    "    # Adicione outras estatísticas para comparação conforme os dados disponíveis,\n",
    "    # como média de idade, distribuição de gênero, etc.\n",
    "else:\n",
    "    st.write(\"Dados insuficientes para comparação entre semestres.\")\n"
   ]
  }
 ],
 "metadata": {
  "kernelspec": {
   "display_name": "Python 3 (ipykernel)",
   "language": "python",
   "name": "python3"
  },
  "language_info": {
   "codemirror_mode": {
    "name": "ipython",
    "version": 3
   },
   "file_extension": ".py",
   "mimetype": "text/x-python",
   "name": "python",
   "nbconvert_exporter": "python",
   "pygments_lexer": "ipython3",
   "version": "3.12.3"
  }
 },
 "nbformat": 4,
 "nbformat_minor": 5
}
