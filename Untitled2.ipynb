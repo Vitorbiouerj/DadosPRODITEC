version https://git-lfs.github.com/spec/v1
oid sha256:586623abf987cf5044e090d39ccc35235a3dd0d93c3d6a62e05536675bda82fb
size 161335
